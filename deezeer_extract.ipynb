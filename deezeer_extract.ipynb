{
 "cells": [
  {
   "cell_type": "markdown",
   "metadata": {},
   "source": [
    "## Deezer playlist to csv"
   ]
  },
  {
   "cell_type": "code",
   "execution_count": null,
   "metadata": {},
   "outputs": [],
   "source": [
    "import requests\n",
    "import pandas as pd\n",
    "\n",
    "playlist_id_list = [\"13301519863\",\n",
    "                    \"11109924384\",\n",
    "                    \"11109924124\",\n",
    "                    \"11109918904\",\n",
    "                    \"11109919544\",\n",
    "                    \"11917580341\",\n",
    "                    \"11109924924\",\n",
    "                    \"11109923824\",\n",
    "                    \"11912452141\",\n",
    "                    \"11109920664\",\n",
    "                    \"11537618704\",\n",
    "                    \"11164434904\",\n",
    "                    \"12126532871\",\n",
    "                    \"11109921284\",\n",
    "                    \"11917626441\",\n",
    "                    \"11959053381\",\n",
    "                    \"11109921064\",\n",
    "                    ]\n",
    "\n",
    "df_tracks = pd.DataFrame(columns=[\"id\", \"title\", \"album\", \"duration\", \"release_date\", \"rank\", \"bpm\", \"gain\"])\n",
    "\n",
    "for playlist_id in playlist_id_list:\n",
    "    response = requests.get(f\"https://api.deezer.com/playlist/{playlist_id}\")\n",
    "    playlist = response.json()\n",
    "    playlist_name = f'in_{playlist[\"title\"].replace(\" \", \"_\")}'\n",
    "\n",
    "    track_id_list = [playlist[\"tracks\"][\"data\"][i][\"id\"] for i in range(len(playlist[\"tracks\"][\"data\"]))]\n",
    "\n",
    "    for track_id in track_id_list:\n",
    "        if track_id not in df_tracks[\"id\"].values:\n",
    "            response = requests.get(f\"https://api.deezer.com/track/{track_id}\")\n",
    "            track = response.json()\n",
    "            artists = ([artist[\"name\"] for artist in track[\"contributors\"]])\n",
    "            df_tracks = pd.concat([df_tracks, pd.DataFrame([{\n",
    "                \"id\": track[\"id\"],\n",
    "                \"title\": track[\"title\"],\n",
    "                \"album\": track[\"album\"][\"title\"],\n",
    "                \"duration\": track[\"duration\"],\n",
    "                \"release_date\": track[\"album\"][\"release_date\"],\n",
    "                \"rank\": track[\"rank\"],\n",
    "                \"bpm\": track[\"bpm\"],\n",
    "                \"gain\": track[\"gain\"],\n",
    "                f\"{playlist_name}\": True\n",
    "            }])], ignore_index=True)\n",
    "\n",
    "            for i in range(len(artists)):\n",
    "                df_tracks.loc[df_tracks.index[-1], f'artist_{i+1}'] = artists[i] if i < len(artists) else None\n",
    "\n",
    "        else:\n",
    "            df_tracks.loc[df_tracks[\"id\"] == track_id, f'{playlist_name}'] = True\n",
    "\n",
    "\n",
    "artist_columns = [col for col in df_tracks.columns if col.startswith(\"artist\")]\n",
    "in_columns = [col for col in df_tracks.columns if col.startswith(\"in_\")]\n",
    "other_columns = [col for col in df_tracks.columns if col not in artist_columns and col not in in_columns]\n",
    "df_tracks = df_tracks[other_columns + artist_columns + in_columns]\n",
    "       \n",
    "df_tracks.head()"
   ]
  },
  {
   "cell_type": "code",
   "execution_count": null,
   "metadata": {},
   "outputs": [],
   "source": [
    "duplicate_titles = df_tracks[df_tracks.duplicated(subset='title', keep=False)]\n",
    "duplicate_titles"
   ]
  },
  {
   "cell_type": "code",
   "execution_count": null,
   "metadata": {},
   "outputs": [],
   "source": [
    "=((B2*0,1)*1+(C2*0,285))"
   ]
  },
  {
   "cell_type": "code",
   "execution_count": null,
   "metadata": {},
   "outputs": [],
   "source": [
    "all_artists = df_tracks[artist_columns].stack().reset_index(level=1, drop=True).to_frame('artist')\n",
    "all_artists['in_fav'] = df_tracks.loc[all_artists.index, 'in_fav'].values\n",
    "\n",
    "artist_counts = all_artists['artist'].value_counts().to_frame('nombre_de_titres')\n",
    "fav_counts = all_artists[all_artists['in_fav'] == True]['artist'].value_counts().to_frame('nombre_de_favoris')\n",
    "\n",
    "artist_summary = artist_counts.join(fav_counts, how='left').fillna(0)\n",
    "artist_summary['coef'] = round((artist_summary['nombre_de_titres'] * 0.1) * (1 + artist_summary['nombre_de_favoris'] * 0.25), 3)\n",
    "artist_summary.reset_index(inplace=True)\n",
    "artist_summary.rename(columns={'index': 'artiste'}, inplace=True)\n",
    "\n",
    "artist_summary"
   ]
  }
 ],
 "metadata": {
  "kernelspec": {
   "display_name": "base",
   "language": "python",
   "name": "python3"
  },
  "language_info": {
   "codemirror_mode": {
    "name": "ipython",
    "version": 3
   },
   "file_extension": ".py",
   "mimetype": "text/x-python",
   "name": "python",
   "nbconvert_exporter": "python",
   "pygments_lexer": "ipython3",
   "version": "3.9.12"
  }
 },
 "nbformat": 4,
 "nbformat_minor": 2
}
